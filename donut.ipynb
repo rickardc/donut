{
 "cells": [
  {
   "cell_type": "code",
   "execution_count": 50,
   "metadata": {},
   "outputs": [],
   "source": [
    "import math\n",
    "import numpy as np"
   ]
  },
  {
   "cell_type": "code",
   "execution_count": 51,
   "metadata": {},
   "outputs": [
    {
     "name": "stdout",
     "output_type": "stream",
     "text": [
      "31.25\n"
     ]
    }
   ],
   "source": [
    "theta_spacing = 0.07\n",
    "phi_spacing   = 0.02\n",
    "\n",
    "R1 = 1.0\n",
    "R2 = 2.0\n",
    "K2 = 5.0\n",
    "\n",
    "screen_width  = 50\n",
    "screen_height = 50\n",
    "\n",
    "K1 = (screen_width*K2*3)/(8*(R1+R2))\n",
    "\n",
    "print(K1)"
   ]
  },
  {
   "cell_type": "code",
   "execution_count": 55,
   "metadata": {},
   "outputs": [],
   "source": [
    "def render_frame(A, B):\n",
    "\n",
    "    cosA = math.cos(A)\n",
    "    sinA = math.sin(A)\n",
    "    cosB = math.cos(B)\n",
    "    sinB = math.sin(B)\n",
    "\n",
    "    output = np.full((screen_width, screen_height), fill_value=' ')\n",
    "    zbuffer = np.zeros((screen_width,screen_height), dtype='float')\n",
    "\n",
    "    theta = 0.0\n",
    "    pi = math.pi\n",
    "\n",
    "    while theta < 2*pi:\n",
    "        costheta = math.cos(theta)\n",
    "        sintheta = math.sin(theta)\n",
    "\n",
    "        phi = 0.0\n",
    "        while phi < 2*pi:\n",
    "\n",
    "            cosphi = math.cos(phi)\n",
    "            sinphi = math.sin(phi)\n",
    "\n",
    "            circlex = R2 + R1*costheta\n",
    "            circley = R1*sintheta\n",
    "\n",
    "            x = circlex*(cosB*cosphi + sinA*sinB*sinphi) - circley*cosA*sinB\n",
    "            y = circlex*(sinB*cosphi - sinA*cosB*sinphi) + circley*cosA*cosB\n",
    "            z = K2 + cosA*circlex*sinphi + circley*sinA\n",
    "            ooz = z**-1\n",
    "\n",
    "            xp = int(screen_width/2 + K1*ooz*x);\n",
    "            yp = int(screen_height/2 - K1*ooz*y);\n",
    "\n",
    "            L =  cosphi*costheta*sinB - cosA*costheta*sinphi - \\\n",
    "                sinA*sintheta + cosB*(cosA*sintheta - costheta*sinA*sinphi)\n",
    "            \n",
    "            if L > 0:\n",
    "                if ooz > zbuffer[xp,yp]:\n",
    "                    zbuffer[xp,yp] = ooz\n",
    "                    luminance_index = int(L*8)\n",
    "                    output[xp, yp] = \".,-~:;=!*#$@\"[luminance_index]\n",
    "            \n",
    "\n",
    "            phi += phi_spacing\n",
    "\n",
    "        theta += theta_spacing\n",
    "\n",
    "    return output\n"
   ]
  },
  {
   "cell_type": "code",
   "execution_count": 62,
   "metadata": {},
   "outputs": [
    {
     "name": "stdout",
     "output_type": "stream",
     "text": [
      "                                                  \n",
      "                                                  \n",
      "                                                  \n",
      "                                                  \n",
      "                                                  \n",
      "                  =!!!====;;;:~                   \n",
      "               !!!!!!!!!!====;;:~                 \n",
      "              *****!!!!!!!!====;;:-               \n",
      "            *******!!!!!!!!!!===;;:~              \n",
      "           ##*****!!!!!!!!!!!!!!==;:~,            \n",
      "          ###***!!!!!!!!!!!!!!!!!==;:~,           \n",
      "         ###**!!!!!!====!!!!!!!!!!!=;:~.          \n",
      "        $###**!!!=========!!!!!!!!!!=;:~.         \n",
      "       $$##**!!!===;;;;;===!!!****!!!=;:-         \n",
      "       $$#**!!!=;;;:;::;;===!!*****!!!=:~,        \n",
      "      $$$#*!!!=;;:::~~:::;=!!*******!!!;:-        \n",
      "      $$#**!!=;;::~~~~~~~:;=!!**##****!=;~,       \n",
      "     $$##*!!==::~---,,,--~;;=!*#####**!!;:-       \n",
      "     $$##*!!=;:~~,,......,:;=!*#####***!=;~.      \n",
      "     $$#*!!==::--.        -:=!*##$$##**!!;~,      \n",
      "    $$$#*!!;;~~,,           ;!*#$$$$##**!;:-      \n",
      "    @$$#*!!;:~-,.            !*#$$$$$#**!=:-      \n",
      "    @$$#*!=;:~-.              #$$$$$$##*!=;-      \n",
      "    @$#**!=;:~,.              *$$@@$$##*!=;-      \n",
      "    @$#**!=;:~,               !$$@@$$$#*!=:-      \n",
      "    @$#**!=;:~,               !$$@@$$$#*!=:-      \n",
      "    @$#**!=;:~,.              *$$@@$$##*!=;-      \n",
      "    @$$#*!=;:~-.              #$$$$$$##*!=;-      \n",
      "    @$$#*!!;:~-,.            !*#$$$$$#**!=:-      \n",
      "    @$$#*!!=;~~,,.          ;!*#$$$$##**!;:-      \n",
      "     $$#*!!==::--.        -:=!*##$$##**!!;~,      \n",
      "     $$##*!!=;:~~,,......-:;=!*#####***!=;~       \n",
      "     $$##*!!==::~--,,,,--~;;=!*#####**!!;:-       \n",
      "      $$##*!!=;;::~~~~~~~:;=!!**##****!=;~,       \n",
      "      $$##*!!!=;;:::~~:::;=!!*******!!!;:-        \n",
      "       $$#**!!!=;;;:;:;;;===!!*****!!!=:~,        \n",
      "       $$##**!!!===;;;;;===!!!***!!!!=;:-         \n",
      "        $###**!!!=========!!!!!!!!!!=;:~.         \n",
      "         ###**!!!!!!====!!!!!!!!!!!=;:~.          \n",
      "          ###***!!!!!!!!!!!!!!!!!==;:~,           \n",
      "           ##*****!!!!!!!!!!!!!!==;:~,            \n",
      "            *******!!!!!!!!!!===;;:~.             \n",
      "              *****!!!!!!!!====;;:-               \n",
      "               !!!!!!!!!!====;;:~                 \n",
      "                  =!!=====;;;:-                   \n",
      "                                                  \n",
      "                                                  \n",
      "                                                  \n",
      "                                                  \n",
      "                                                  \n"
     ]
    }
   ],
   "source": [
    "#print(\"\\x1b[H\")\n",
    "frame = render_frame(1.5, 0.0)\n",
    "\n",
    "for row in frame:\n",
    "    row = ''.join(row)\n",
    "    print(row)  # Print a new line after each"
   ]
  },
  {
   "cell_type": "code",
   "execution_count": 65,
   "metadata": {},
   "outputs": [
    {
     "ename": "TypeError",
     "evalue": "'float' object cannot be interpreted as an integer",
     "output_type": "error",
     "traceback": [
      "\u001b[0;31m---------------------------------------------------------------------------\u001b[0m",
      "\u001b[0;31mTypeError\u001b[0m                                 Traceback (most recent call last)",
      "Cell \u001b[0;32mIn[65], line 20\u001b[0m\n\u001b[1;32m     17\u001b[0m         time\u001b[38;5;241m.\u001b[39msleep(\u001b[38;5;241m1\u001b[39m)\n\u001b[1;32m     18\u001b[0m         os\u001b[38;5;241m.\u001b[39msystem(\u001b[38;5;124m\"\u001b[39m\u001b[38;5;124mcls\u001b[39m\u001b[38;5;124m\"\u001b[39m)\n\u001b[0;32m---> 20\u001b[0m rotate()\n",
      "Cell \u001b[0;32mIn[65], line 7\u001b[0m, in \u001b[0;36mrotate\u001b[0;34m()\u001b[0m\n\u001b[1;32m      5\u001b[0m \u001b[38;5;28;01mdef\u001b[39;00m \u001b[38;5;21mrotate\u001b[39m():\n\u001b[0;32m----> 7\u001b[0m     rot \u001b[38;5;241m=\u001b[39m \u001b[38;5;28mrange\u001b[39m(\u001b[38;5;241m0.1\u001b[39m,\u001b[38;5;241m20.1\u001b[39m,\u001b[38;5;241m0.1\u001b[39m)\n\u001b[1;32m     11\u001b[0m     \u001b[38;5;28;01mfor\u001b[39;00m i \u001b[38;5;129;01min\u001b[39;00m rot:\n\u001b[1;32m     12\u001b[0m         frame \u001b[38;5;241m=\u001b[39m render_frame(i, i)\n",
      "\u001b[0;31mTypeError\u001b[0m: 'float' object cannot be interpreted as an integer"
     ]
    }
   ],
   "source": [
    "# Looping function\n",
    "import os\n",
    "import time\n",
    "\n",
    "def rotate():\n",
    "    \n",
    "    rot = np.arange(0.1, 20.1, 0.1)\n",
    "    \n",
    "    \n",
    "\n",
    "    for i in rot:\n",
    "        frame = render_frame(i, i)\n",
    "\n",
    "        for row in frame:\n",
    "            row = ''.join(row)\n",
    "            print(row)\n",
    "        time.sleep(1)\n",
    "        os.system(\"cls\")\n",
    "        \n",
    "rotate()\n"
   ]
  }
 ],
 "metadata": {
  "kernelspec": {
   "display_name": "base",
   "language": "python",
   "name": "python3"
  },
  "language_info": {
   "codemirror_mode": {
    "name": "ipython",
    "version": 3
   },
   "file_extension": ".py",
   "mimetype": "text/x-python",
   "name": "python",
   "nbconvert_exporter": "python",
   "pygments_lexer": "ipython3",
   "version": "3.12.2"
  }
 },
 "nbformat": 4,
 "nbformat_minor": 2
}
